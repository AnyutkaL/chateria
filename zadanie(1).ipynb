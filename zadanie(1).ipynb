{
  "nbformat": 4,
  "nbformat_minor": 0,
  "metadata": {
    "colab": {
      "provenance": []
    },
    "kernelspec": {
      "name": "python3",
      "display_name": "Python 3"
    },
    "language_info": {
      "name": "python"
    }
  },
  "cells": [
    {
      "cell_type": "code",
      "execution_count": null,
      "metadata": {
        "id": "LVckVf_CjHSM"
      },
      "outputs": [],
      "source": []
    },
    {
      "cell_type": "markdown",
      "source": [
        "\n",
        "\n",
        ">• wypełnianie deklaracji PIT,\n",
        " Oświadczenie wymaga dokładności, jak każdy dokument, więc musi to zrobić osoba.\n",
        " Ale z drugiej strony zawsze są czynnik ludzki. Czlowiek może być zmienczony i zrobić błąd. Ale AI nie może być zmienczony.\n",
        "• klasyfikacja tekstu do kategorii tematycznych\n",
        "•Najprawdopodobniej sztuczna inteligencja klasyfikuje tekst za pomocą słów kluczowych. Ale nie zawsze są one jedynymi potrzebnymi do klasyfikacji.\n",
        "• kierowanie samochodem\n",
        " Na drodze często zdarzają się nieprzewidziane sytuacje, które wymagają szybkiej reakcji. Na przykład: wyskoczył jeleń.\n",
        "•  • testowanie oprogramowania,\n",
        "• Osoba może być bardziej uważna na kontrolę, a czynnik ludzki jest dla niego bardziej nieodłączny.\n",
        "komponowanie muzyki\n",
        "Niestety wraz z pojawieniem się AI wartość pracy ludzkiej uległa dewaluacji. Indywidualność również jest dewaluowana. Też może być gorsza jakość.\n"
      ],
      "metadata": {
        "id": "BmxtdpHDjQAE"
      }
    },
    {
      "cell_type": "markdown",
      "source": [
        "zadanie 2\n",
        "• tłumaczenie tekstu,\n",
        "Tak. AI może tłumaczyć tekst, a nawet robić to lepiej niż Google Translator. Potrafi też złożyć zdanie w logiczny sposób.\n",
        "\n",
        "• odpowiadanie na proste pytania zadawane w języku naturalnym,\n",
        "Tak. Napewno AI jest zaprogramowany i już zna otpowiedzi na najczenśćiej zadawane pytania.\n",
        "• rozwiązywanie układów równań,\n",
        "Tak. Bo tutaj jest algorytm który nie wymaga czynnika ludzkiego czy indywidualnośći.\n",
        "• rozwiązywanie układów równań liniowych,\n",
        "To samo co w poprzednim/\n",
        "\n"
      ],
      "metadata": {
        "id": "cKren8aJjYEd"
      }
    },
    {
      "cell_type": "markdown",
      "source": [
        "Zadanie 3\n",
        "• rozmowa towarzyska,50%\n",
        "Z jednej strony tak bo już mamy takie pryklady Character AI. Z drugiej nie, bo czlowiek rozumie że to jest AI, jaki rozmawia nie dlłatego że jest ciekawe , a dłatego że jest tak zaprogromawany.\n",
        "• odpowiadanie na pytania klientów w internetowej infolinii.50%\n",
        "AI może odpowiadać już gotowym tekstem i dosylać informacje. Ale zdarzają się różne sytuacji i mogą być takie pytanie na które AI nie da otpowiedz.\n"
      ],
      "metadata": {
        "id": "8gptAF1pk9R2"
      }
    },
    {
      "cell_type": "markdown",
      "source": [
        "zadanie 4. Tutaj mam cleverbot i chatbot\n",
        "a) cahtbot:W szkole na matematyce pani pyta Jasia: - Jasiu co to jest kąt? - Kąt, to najbrudniejsza część mojego pokoju.\n",
        "clever: Przychodzi baba do lekarza a lekarz też baba.\n",
        "b) CHATbot:Zaskakujesz mnie. Spróbuj zadać pytanie inaczej.\n",
        "cleverbot: Choć uśpimy dziecko.\n",
        "Clever odpowiedzial WSZYSTKO jako rofl czy zart. Chatbot obpowiedzial na serio ale niestety ma limit.("
      ],
      "metadata": {
        "id": "1BeDbLNbYamr"
      }
    }
  ]
}