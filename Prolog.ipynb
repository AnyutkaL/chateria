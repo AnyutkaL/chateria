{
  "nbformat": 4,
  "nbformat_minor": 0,
  "metadata": {
    "colab": {
      "provenance": [],
      "authorship_tag": "ABX9TyOK8vVD6u924Mq4jlvopT04",
      "include_colab_link": true
    },
    "kernelspec": {
      "name": "python3",
      "display_name": "Python 3"
    },
    "language_info": {
      "name": "python"
    }
  },
  "cells": [
    {
      "cell_type": "markdown",
      "metadata": {
        "id": "view-in-github",
        "colab_type": "text"
      },
      "source": [
        "<a href=\"https://colab.research.google.com/github/AnyutkaL/chateria/blob/main/Prolog.ipynb\" target=\"_parent\"><img src=\"https://colab.research.google.com/assets/colab-badge.svg\" alt=\"Open In Colab\"/></a>"
      ]
    },
    {
      "cell_type": "markdown",
      "source": [
        "Zadanie 1"
      ],
      "metadata": {
        "id": "q9m20ejJ0kYA"
      }
    },
    {
      "cell_type": "code",
      "source": [
        "% Fakty\n",
        "ojciec(jan, anna).\n",
        "ojciec(jan, piotr).\n",
        "ojciec(andrzej, michal). % Andrzej jest ojcem Michała\n",
        "ojciec(andrzej, agata). % Andrzej jest ojcem Agaty\n",
        "ojciec(stefan, jan). % Stefan jest ojcem Jana\n",
        "ojciec(stefan, andrzej). % Stefan jest ojcem Andrzeja\n",
        "matka(maria, anna).\n",
        "matka(maria, piotr).\n",
        "matka(kasia, michal).\n",
        "matka(kasia, agata).\n",
        "matka(helena, jan).\n",
        "matka(helena, andrzej).\n",
        "\n",
        "% Małżeństwa\n",
        "malzenstwo(jan, maria).\n",
        "malzenstwo(andrzej, kasia).\n",
        "malzenstwo(stefan, helena).\n",
        "\n",
        "% Płeć\n",
        "mezczyzna(jan).\n",
        "mezczyzna(piotr).\n",
        "mezczyzna(andrzej).\n",
        "mezczyzna(michal).\n",
        "mezczyzna(stefan).\n",
        "kobieta(maria).\n",
        "kobieta(anna).\n",
        "kobieta(kasia).\n",
        "kobieta(agata).\n",
        "kobieta(helena).\n",
        "\n",
        "% Reguły: przodek(X, Y) - X jest przodkiem Y\n",
        "przodek(X, Y) :-\n",
        "    ojciec(X, Y).\n",
        "przodek(X, Y) :-\n",
        "    matka(X, Y).\n",
        "przodek(X, Y) :-\n",
        "    ojciec(X, Z), przodek(Z, Y).\n",
        "przodek(X, Y) :-\n",
        "    matka(X, Z), przodek(Z, Y).\n",
        "\n",
        "% Reguły: brat(X, Y) - X jest bratem Y\n",
        "brat(X, Y) :-\n",
        "    mezczyzna(X),\n",
        "    ojciec(Ojciec, X), ojciec(Ojciec, Y),\n",
        "    matka(Matka, X), matka(Matka, Y),\n",
        "    X \\= Y.\n",
        "\n",
        "% Reguły: siostra(X, Y) - X jest siostrą Y\n",
        "siostra(X, Y) :-\n",
        "    kobieta(X),\n",
        "    ojciec(Ojciec, X), ojciec(Ojciec, Y),\n",
        "    matka(Matka, X), matka(Matka, Y),\n",
        "    X \\= Y.\n",
        "\n",
        "% Reguły: kuzyn(X, Y) - X jest kuzynem Y\n",
        "kuzyn(X, Y) :-\n",
        "    ojciec(OjciecX, X), ojciec(OjciecY, Y),\n",
        "    brat(OjciecX, OjciecY).\n"
      ],
      "metadata": {
        "id": "a-hLXqu9giUd"
      },
      "execution_count": null,
      "outputs": []
    },
    {
      "cell_type": "markdown",
      "source": [
        "Zadanie 2   najkrotsza_droga(warszawa, gdansk, Trasa, Koszt)."
      ],
      "metadata": {
        "id": "g-M-JMD20bpB"
      }
    },
    {
      "cell_type": "code",
      "source": [
        "% Fakty o lotniskach\n",
        "lotnisko(warszawa).\n",
        "lotnisko(krakow).\n",
        "lotnisko(gdansk).\n",
        "\n",
        "% Fakty o połączeniach i ich kosztach\n",
        "polaczenie(warszawa, krakow, 300).\n",
        "polaczenie(krakow, gdansk, 200).\n",
        "polaczenie(warszawa, gdansk, 500).\n",
        "\n",
        "% Reguła: Sprawdzenie, czy istnieje bezpośrednie połączenie\n",
        "polaczenie(X, Y) :-\n",
        "    polaczenie(X, Y, _);\n",
        "    polaczenie(Y, X, _).\n",
        "\n",
        "% Reguła: Określenie kosztu podróży między dwoma lotniskami\n",
        "koszt_podrozy(X, Y, C) :-\n",
        "    polaczenie(X, Y, C).\n",
        "koszt_podrozy(X, Y, C) :-\n",
        "    polaczenie(Y, X, C).\n",
        "\n",
        "% Reguła: Wyznaczanie trasy między dwoma lotniskami\n",
        "trasa(X, Y, [X, Y], Koszt) :-\n",
        "    polaczenie(X, Y, Koszt).\n",
        "trasa(X, Y, [X|Trasa], Koszt) :-\n",
        "    polaczenie(X, Z, K1),\n",
        "    Z \\= Y,\n",
        "    \\+ member(Z, [X|Trasa]), % Unikanie cykli\n",
        "    trasa(Z, Y, Trasa, K2),\n",
        "    Koszt is K1 + K2.\n",
        "\n",
        "% Reguła: Wyznaczanie najkrótszej trasy między dwoma lotniskami\n",
        "najkrotsza_droga(X, Y, NajkrotszaTrasa, NajnizszyKoszt) :-\n",
        "    setof([Koszt, Trasa], trasa(X, Y, Trasa, Koszt), WszystkieTrasy),\n",
        "    WszystkieTrasy = [[NajnizszyKoszt, NajkrotszaTrasa]|_]."
      ],
      "metadata": {
        "id": "1PzLfvTR0g4g"
      },
      "execution_count": null,
      "outputs": []
    },
    {
      "cell_type": "markdown",
      "source": [
        "Zadanie 3"
      ],
      "metadata": {
        "id": "gzjvtnSJ03e-"
      }
    },
    {
      "cell_type": "code",
      "source": [
        "% Deklaracja dynamicznych faktów\n",
        ":- dynamic produkt/3.\n",
        "\n",
        "% Fakty definiujące produkty w magazynie\n",
        "produkt(tv, 10, sektor_a).\n",
        "produkt(pralka, 5, sektor_b).\n",
        "produkt(lodowka, 3, sektor_c).\n",
        "\n",
        "% Reguła sprawdzająca dostępność produktu\n",
        "dostepny_produkt(X) :-\n",
        "    produkt(X, Ilosc, _),\n",
        "    Ilosc > 0.\n",
        "\n",
        "% Reguła przenosząca produkt do innego sektora\n",
        "przenies_produkt(X, NowySektor) :-\n",
        "    retract(produkt(X, Ilosc, _)), % Usunięcie starego wpisu\n",
        "    assertz(produkt(X, Ilosc, NowySektor)). % Dodanie nowego wpisu\n",
        "\n",
        "% Reguła uzupełniająca stan produktu\n",
        "uzupelnij_stan(X, N) :-\n",
        "    produkt(X, Ilosc, Sektor),\n",
        "    NowaIlosc is Ilosc + N,\n",
        "    retract(produkt(X, Ilosc, Sektor)), % Usunięcie starego wpisu\n",
        "    assertz(produkt(X, NowaIlosc, Sektor)). % Dodanie nowego wpisu"
      ],
      "metadata": {
        "id": "3f4tiuvj059m"
      },
      "execution_count": null,
      "outputs": []
    },
    {
      "cell_type": "markdown",
      "source": [
        "zadanie 4 najkrotsza_trasa(warszawa, poznan, Trasa, Czas)."
      ],
      "metadata": {
        "id": "jumQx8YEAToA"
      }
    },
    {
      "cell_type": "code",
      "source": [
        "% Fakty o miastach\n",
        "miasto(warszawa).\n",
        "miasto(krakow).\n",
        "miasto(poznan).\n",
        "\n",
        "% Fakty o drogach i czasach przejazdu\n",
        "droga(warszawa, krakow, 4).\n",
        "droga(krakow, poznan, 3).\n",
        "droga(warszawa, poznan, 7).\n",
        "\n",
        "droga(X, Y) :- droga(X, Y, _).  % Istnieje bezpośrednia droga między X a Y\n",
        "droga(X, Y) :- droga(Y, X, _).  % Istnieje bezpośrednia droga między Y a X\n",
        "\n",
        "% Bezpośredni czas przejazdu\n",
        "czas_przejazdu(X, Y, T) :- droga(X, Y, T).\n",
        "\n",
        "% Rekursywne obliczanie czasu przejazdu przez połączenia pośrednie\n",
        "czas_przejazdu(X, Y, T) :-\n",
        "    droga(X, Z, T1),\n",
        "    czas_przejazdu(Z, Y, T2),\n",
        "    T is T1 + T2.\n",
        "\n",
        "% Najkrótsza trasa między miastami X i Y\n",
        "najkrotsza_trasa(X, Y, Trasa, Czas) :-\n",
        "    najkrotsza_trasa(X, Y, [X], 0, Trasa, Czas).\n",
        "\n",
        "najkrotsza_trasa(X, X, Trasa, Czas, Trasa, Czas).\n",
        "\n",
        "najkrotsza_trasa(X, Y, Odwiedzone, CzasSoFar, Trasa, Czas) :-\n",
        "    droga(X, Z, CzasDoZ),\n",
        "    \\+ member(Z, Odwiedzone),\n",
        "    NewCzas is CzasSoFar + CzasDoZ,\n",
        "    najkrotsza_trasa(Z, Y, [Z|Odwiedzone], NewCzas, Trasa, Czas)."
      ],
      "metadata": {
        "id": "7ztuLIMEAVr1"
      },
      "execution_count": null,
      "outputs": []
    },
    {
      "cell_type": "markdown",
      "source": [
        "zadanie 5"
      ],
      "metadata": {
        "id": "42g8G9AKFXxE"
      }
    },
    {
      "cell_type": "code",
      "source": [
        "% Fakty o książkach\n",
        "ksiazka('W pustyni i w puszczy', sienkiewicz, przygodowa).\n",
        "ksiazka('Hobbit', tolkien, fantasy).\n",
        "ksiazka('Pan Tadeusz', mickiewicz, poezja).\n",
        "\n",
        "% Fakty o ocenach\n",
        "ocena(uzytkownik1, 'W pustyni i w puszczy', 5).\n",
        "ocena(uzytkownik1, 'Hobbit', 4).\n",
        "ocena(uzytkownik1, 'Pan Tadeusz', 3).\n",
        "\n",
        "% Fakty o preferencjach\n",
        "preferencje(uzytkownik1, fantasy).\n",
        "\n",
        "% Polecane książki dla użytkownika X z gatunku Gatunek\n",
        "polecane_ksiazki(X, Gatunek) :-\n",
        "    preferencje(X, Gatunek),  % Sprawdzamy, czy użytkownik preferuje ten gatunek\n",
        "    findall(Tytul, (ksiazka(Tytul, _, Gatunek), ocena(X, Tytul, Ocena), Ocena >= 4), Polecane),  % Wybieramy książki z oceną >= 4\n",
        "    write(Polecane).\n",
        "% Dodanie oceny do książki\n",
        "dodaj_ocene(Uzytkownik, Ksiazka, Ocena) :-\n",
        "    assertz(ocena(Uzytkownik, Ksiazka, Ocena)).\n",
        "\n",
        "% Usunięcie oceny książki\n",
        "usun_ocene(Uzytkownik, Ksiazka) :-\n",
        "    retract(ocena(Uzytkownik, Ksiazka, _)).\n"
      ],
      "metadata": {
        "id": "VPHNDT_EFa8u"
      },
      "execution_count": null,
      "outputs": []
    }
  ]
}