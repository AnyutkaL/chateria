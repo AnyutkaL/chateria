{
  "nbformat": 4,
  "nbformat_minor": 0,
  "metadata": {
    "colab": {
      "provenance": [],
      "authorship_tag": "ABX9TyMeA49e3rvvOSiJq8D18mdI",
      "include_colab_link": true
    },
    "kernelspec": {
      "name": "python3",
      "display_name": "Python 3"
    },
    "language_info": {
      "name": "python"
    }
  },
  "cells": [
    {
      "cell_type": "markdown",
      "metadata": {
        "id": "view-in-github",
        "colab_type": "text"
      },
      "source": [
        "<a href=\"https://colab.research.google.com/github/AnyutkaL/chateria/blob/main/%C4%87wiczenia.ipynb\" target=\"_parent\"><img src=\"https://colab.research.google.com/assets/colab-badge.svg\" alt=\"Open In Colab\"/></a>"
      ]
    },
    {
      "cell_type": "markdown",
      "source": [
        "cwiczenie 1"
      ],
      "metadata": {
        "id": "5P-HMCggFZHf"
      }
    },
    {
      "cell_type": "code",
      "execution_count": null,
      "metadata": {
        "id": "GpL8jBNFFNh0"
      },
      "outputs": [],
      "source": [
        "% Fakty dotyczące ojca\n",
        "ojciec(jan, anna).\n",
        "ojciec(jan, piotr).\n",
        "\n",
        "% Fakty dotyczące matki\n",
        "matka(maria, anna).\n",
        "matka(maria, piotr)."
      ]
    },
    {
      "cell_type": "markdown",
      "source": [
        "ćwiczenie 2"
      ],
      "metadata": {
        "id": "YPJ4tDl4veFL"
      }
    },
    {
      "cell_type": "markdown",
      "source": [
        "% Fakty dotyczące ojca\n",
        "ojciec(jan, anna).\n",
        "ojciec(jan, piotr).\n",
        "\n",
        "% Fakty dotyczące matki\n",
        "matka(maria, anna).\n",
        "matka(maria, piotr).\n",
        "\n",
        "% Reguła rodzic\n",
        "rodzic(X, Y) :-\n",
        "    ojciec(X, Y). % X jest rodzicem Y, jeśli X jest ojcem Y\n",
        "rodzic(X, Y) :-\n",
        "    matka(X, Y). % X jest rodzicem Y, jeśli X jest matką Y"
      ],
      "metadata": {
        "id": "a_8ImFl_vifu"
      }
    },
    {
      "cell_type": "markdown",
      "source": [
        "ćwiczenie 3"
      ],
      "metadata": {
        "id": "-2E1xpftwapv"
      }
    },
    {
      "cell_type": "code",
      "source": [
        "% Fakty dotyczące ojców i matek\n",
        "ojciec(karol, jan).\n",
        "ojciec(jan, anna).\n",
        "ojciec(jan, piotr).\n",
        "\n",
        "matka(maria, anna).\n",
        "matka(maria, piotr).\n",
        "\n",
        "% Reguła rodzic\n",
        "rodzic(X, Y) :-\n",
        "    ojciec(X, Y).\n",
        "rodzic(X, Y) :-\n",
        "    matka(X, Y).\n",
        "\n",
        "% Reguła dziadek\n",
        "dziadek(X, Y) :-\n",
        "    ojciec(X, Z), % X jest ojcem Z\n",
        "    rodzic(Z, Y). % Z jest rodzicem Y\n"
      ],
      "metadata": {
        "id": "Fn87ieaIwfrT"
      },
      "execution_count": null,
      "outputs": []
    },
    {
      "cell_type": "markdown",
      "source": [
        "ćwiczenie 4"
      ],
      "metadata": {
        "id": "xEJKElB2xeV9"
      }
    },
    {
      "cell_type": "code",
      "source": [
        "% Fakty dotyczące ojców i matek\n",
        "ojciec(jan, anna).\n",
        "ojciec(jan, piotr).\n",
        "\n",
        "matka(maria, anna).\n",
        "matka(maria, piotr).\n",
        "\n",
        "% Reguła rodzic\n",
        "rodzic(X, Y) :-\n",
        "    ojciec(X, Y).\n",
        "rodzic(X, Y) :-\n",
        "    matka(X, Y).\n",
        "\n",
        "% Reguła siostra\n",
        "siostra(X, Y) :-\n",
        "    kobieta(X),          % X jest kobietą\n",
        "    rodzic(Z, X),        % Z jest rodzicem X\n",
        "    rodzic(Z, Y),        % Z jest również rodzicem Y\n",
        "    X \\= Y.              % X i Y to różne osoby\n",
        "\n",
        "% Fakty dotyczące płci\n",
        "kobieta(anna).\n",
        "mezczyzna(piotr)."
      ],
      "metadata": {
        "id": "snf-hNHRxif0"
      },
      "execution_count": null,
      "outputs": []
    },
    {
      "cell_type": "markdown",
      "source": [
        "ćwiczenie 5"
      ],
      "metadata": {
        "id": "2oEGHLtSyIkZ"
      }
    },
    {
      "cell_type": "code",
      "source": [
        "% Fakty dotyczące ojców i matek\n",
        "ojciec(jan, anna).\n",
        "ojciec(jan, piotr).\n",
        "\n",
        "matka(maria, anna).\n",
        "matka(maria, piotr).\n",
        "\n",
        "% Reguła rodzic\n",
        "rodzic(X, Y) :-\n",
        "    ojciec(X, Y).\n",
        "rodzic(X, Y) :-\n",
        "    matka(X, Y).\n",
        "\n",
        "% Predykat jest_rodzicem\n",
        "jest_rodzicem(X) :-\n",
        "    rodzic(X, _). % X jest rodzicem kogoś, jeśli X jest rodzicem jakiejkolwiek osoby (zmienna anonimowa _)\n"
      ],
      "metadata": {
        "id": "Bld37IC0yMzC"
      },
      "execution_count": null,
      "outputs": []
    },
    {
      "cell_type": "markdown",
      "source": [
        "ćwiczenie 6"
      ],
      "metadata": {
        "id": "pldQDcbKy2E7"
      }
    },
    {
      "cell_type": "code",
      "source": [
        "% Fakty dotyczące ojców i matek\n",
        "ojciec(jan, anna).\n",
        "ojciec(jan, piotr).\n",
        "\n",
        "matka(maria, anna).\n",
        "matka(maria, piotr).\n",
        "\n",
        "% Reguła rodzic\n",
        "rodzic(X, Y) :-\n",
        "    ojciec(X, Y).\n",
        "rodzic(X, Y) :-\n",
        "    matka(X, Y).\n",
        "\n",
        "% Reguła czyj_rodzic\n",
        "czyj_rodzic(X, ListaDzieci) :-\n",
        "    findall(Y, rodzic(X, Y), ListaDzieci). % Zbiera wszystkie dzieci X do listy"
      ],
      "metadata": {
        "id": "my0RgBV0y5q_"
      },
      "execution_count": null,
      "outputs": []
    },
    {
      "cell_type": "markdown",
      "source": [
        "ćwiczenie 7"
      ],
      "metadata": {
        "id": "GCqTFJ8zzYRs"
      }
    },
    {
      "cell_type": "code",
      "source": [
        "% Fakty dotyczące ojców i matek\n",
        "ojciec(jan, anna).\n",
        "ojciec(jan, piotr).\n",
        "\n",
        "matka(maria, anna).\n",
        "matka(maria, piotr).\n",
        "\n",
        "% Reguła rodzic\n",
        "rodzic(X, Y) :-\n",
        "    ojciec(X, Y).\n",
        "rodzic(X, Y) :-\n",
        "    matka(X, Y).\n",
        "\n",
        "% Reguła rodzic_cut\n",
        "rodzic_cut(X, Y) :-\n",
        "    rodzic(X, Y),   % Szuka pierwszego rozwiązania\n",
        "    !.              % Cut! - przerywa przeszukiwanie po pierwszym rozwiązaniu\n",
        "\n",
        "% Reguła rodzic_bez_cut\n",
        "rodzic_bez_cut(X, Y) :-\n",
        "    rodzic(X, Y).   % Zwraca wszystkie możliwe rozwiązania"
      ],
      "metadata": {
        "id": "pZ_9oBsAzbjm"
      },
      "execution_count": null,
      "outputs": []
    },
    {
      "cell_type": "markdown",
      "source": [
        "ćwiczenie 8"
      ],
      "metadata": {
        "id": "NwUZnmcF0NIu"
      }
    },
    {
      "cell_type": "code",
      "source": [
        "% Fakty dotyczące ojców i matek\n",
        "ojciec(jan, anna).\n",
        "ojciec(jan, piotr).\n",
        "\n",
        "matka(maria, anna).\n",
        "matka(maria, piotr).\n",
        "\n",
        "% Zmodyfikowana reguła rodzic z cut\n",
        "rodzic(X, Y) :-\n",
        "    (   ojciec(X, Y) ;  % Pierwsza próba: sprawdza ojca\n",
        "        matka(X, Y)     % Druga próba: sprawdza matkę\n",
        "    ),\n",
        "    !.                  % Cut: przerywa przeszukiwanie po pierwszym rozwiązaniu\n"
      ],
      "metadata": {
        "id": "_6SWFCA60QMQ"
      },
      "execution_count": null,
      "outputs": []
    },
    {
      "cell_type": "code",
      "source": [
        "ćwiczenie 9"
      ],
      "metadata": {
        "id": "PdF-DT1H1hOI"
      },
      "execution_count": null,
      "outputs": []
    },
    {
      "cell_type": "code",
      "source": [
        "% Fakty o wieku osób\n",
        "wiek(jan, 45).\n",
        "wiek(maria, 30).\n",
        "wiek(anna, 25).\n",
        "wiek(piotr, 40).\n",
        "\n",
        "% Reguła, która określa, czy X jest starszy od Y\n",
        "starszy(X, Y) :-\n",
        "    wiek(X, WiekX),   % Sprawdzamy wiek osoby X\n",
        "    wiek(Y, WiekY),   % Sprawdzamy wiek osoby Y\n",
        "    WiekX > WiekY.    % X jest starszy od Y, jeśli jego wiek jest większy niż wiek Y"
      ],
      "metadata": {
        "id": "UBfn8lvf1kwo"
      },
      "execution_count": null,
      "outputs": []
    },
    {
      "cell_type": "markdown",
      "source": [
        "ćwiczenie 10"
      ],
      "metadata": {
        "id": "i5ZOw7hl2A6D"
      }
    },
    {
      "cell_type": "code",
      "source": [
        "% Fakty o wieku osób\n",
        "wiek(jan, 45).\n",
        "wiek(maria, 30).\n",
        "wiek(anna, 25).\n",
        "wiek(piotr, 40).\n",
        "\n",
        "% Predykat wypisujący osoby starsze niż N lat\n",
        "wiek_wiecej_niz(N) :-\n",
        "    wiek(X, Wiek),       % Sprawdzamy wiek osoby X\n",
        "    Wiek > N,            % Sprawdzamy, czy Wiek X jest większy niż N\n",
        "    write(X),            % Wypisujemy osobę X\n",
        "    nl,                  % Nowa linia po wypisaniu\n",
        "    fail.                % Używamy fail, aby kontynuować i znaleźć wszystkie osoby\n",
        "\n",
        "% Zakończenie, jeśli brak dalszych wyników\n",
        "wiek_wiecej_niz(_).     % W przypadku braku dalszych wyników (po wywołaniu fail)"
      ],
      "metadata": {
        "id": "mVKq7vLJ2D-k"
      },
      "execution_count": null,
      "outputs": []
    },
    {
      "cell_type": "markdown",
      "source": [
        "ćwiczenie 11"
      ],
      "metadata": {
        "id": "FKCP5wyp4-HK"
      }
    },
    {
      "cell_type": "code",
      "source": [
        "% Deklaracja predykatów jako dynamicznych\n",
        ":- dynamic produkt/3.\n",
        "\n",
        "% Przykładowe fakty, które mogą być początkowo w bazie danych\n",
        "produkt(laptop, 10, sektor_b).\n",
        "produkt(smartfon, 20, sektor_c).\n",
        "produkt(tablet, 15, sektor_a).\n",
        "\n",
        "% Predykat do dodawania faktu\n",
        "dodaj_fakt(X) :-\n",
        "    assertz(X).\n",
        "\n",
        "% Predykat do usuwania faktu\n",
        "usun_fakt(X) :-\n",
        "    retract(X),\n",
        "    !.\n",
        "usun_fakt(_).  % Zapewnia zwrócenie true, nawet jeśli fakt do usunięcia nie istnieje\n",
        "\n",
        "% Funkcje pomocnicze\n",
        "lista_produktow :-\n",
        "    produkt(Nazwa, Ilosc, Sektor),\n",
        "    format('~w, Ilość: ~w, Sektor: ~w~n', [Nazwa, Ilosc, Sektor]),\n",
        "    fail.\n",
        "lista_produktow."
      ],
      "metadata": {
        "id": "65_2JcKj5CN7"
      },
      "execution_count": null,
      "outputs": []
    },
    {
      "cell_type": "code",
      "source": [
        "ćwiczenie 12"
      ],
      "metadata": {
        "id": "XMtnj-WN2hCx"
      },
      "execution_count": null,
      "outputs": []
    },
    {
      "cell_type": "code",
      "source": [
        "% Predykat zamieniający wszystkie wystąpienia X na Y w liście L1\n",
        "zamien(_, _, [], []).   % Jeśli lista jest pusta, wynik jest pustą listą\n",
        "zamien(X, Y, [X|T1], [Y|T2]) :-  % Jeśli element to X, zamień go na Y\n",
        "    zamien(X, Y, T1, T2).        % Rekurencyjnie przetwarzaj resztę listy\n",
        "zamien(X, Y, [H|T1], [H|T2]) :-  % Jeśli element to nie X, pozostaw go bez zmian\n",
        "    X \\= H,\n",
        "    zamien(X, Y, T1, T2).\n",
        "\n",
        "% Predykat obliczający długość listy\n",
        "dlugosc([], 0).    % Długość pustej listy to 0\n",
        "dlugosc([_|T], N) :-  % Dla niepustej listy dodajemy 1 do długości reszty\n",
        "    dlugosc(T, N1),\n",
        "    N is N1 + 1."
      ],
      "metadata": {
        "id": "OvT4aWRQ2kWR"
      },
      "execution_count": null,
      "outputs": []
    }
  ]
}